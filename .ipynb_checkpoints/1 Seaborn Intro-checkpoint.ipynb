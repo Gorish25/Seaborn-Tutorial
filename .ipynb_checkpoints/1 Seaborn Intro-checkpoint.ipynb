{
 "cells": [
  {
   "cell_type": "markdown",
   "id": "5d3a18bb",
   "metadata": {},
   "source": [
    "# What is Seaborn?\n",
    "- Seaborn is a data visualization library built on top of matplotlib and closely integrated with pandas data structures in Python."
   ]
  },
  {
   "cell_type": "markdown",
   "id": "18b9b45c",
   "metadata": {},
   "source": [
    "## Seaborn Graphs\n",
    "- Scatter plot, Customizing with Matplotlib, Box Plot, Violin Plot, Swarm Plot, Overlaying plots, Heatmap, Histogram, Bar Plot, Factor Plot, Density Plot, Joint Distribution Plot"
   ]
  },
  {
   "cell_type": "code",
   "execution_count": null,
   "id": "064a2129",
   "metadata": {},
   "outputs": [],
   "source": []
  }
 ],
 "metadata": {
  "kernelspec": {
   "display_name": "Python 3 (ipykernel)",
   "language": "python",
   "name": "python3"
  },
  "language_info": {
   "codemirror_mode": {
    "name": "ipython",
    "version": 3
   },
   "file_extension": ".py",
   "mimetype": "text/x-python",
   "name": "python",
   "nbconvert_exporter": "python",
   "pygments_lexer": "ipython3",
   "version": "3.9.7"
  }
 },
 "nbformat": 4,
 "nbformat_minor": 5
}
